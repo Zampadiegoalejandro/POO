{
  "nbformat": 4,
  "nbformat_minor": 0,
  "metadata": {
    "colab": {
      "provenance": [],
      "authorship_tag": "ABX9TyMV4Y2r6tgZKkz1dcT39Mv/",
      "include_colab_link": true
    },
    "kernelspec": {
      "name": "python3",
      "display_name": "Python 3"
    },
    "language_info": {
      "name": "python"
    }
  },
  "cells": [
    {
      "cell_type": "markdown",
      "metadata": {
        "id": "view-in-github",
        "colab_type": "text"
      },
      "source": [
        "<a href=\"https://colab.research.google.com/github/Zampadiegoalejandro/POO/blob/main/FigurasGEO.ipynb\" target=\"_parent\"><img src=\"https://colab.research.google.com/assets/colab-badge.svg\" alt=\"Open In Colab\"/></a>"
      ]
    },
    {
      "cell_type": "code",
      "execution_count": null,
      "metadata": {
        "id": "YLvOm9S-CGpP"
      },
      "outputs": [],
      "source": []
    },
    {
      "cell_type": "markdown",
      "source": [
        "Figuras Geometricas | Hecho por: diego alejandro sanchez sanabria | 06/02/2025"
      ],
      "metadata": {
        "id": "QPeHKvZACHiC"
      }
    },
    {
      "cell_type": "code",
      "source": [
        "class Figuras:\n",
        "  def __init__(self):\n",
        "    self.valorb=0\n",
        "    self.valorh=0\n",
        "    self.radio=0\n",
        "    self.pi=3.1416\n",
        "    self.resultado=0\n",
        "    self.msg=\"\"\n",
        "  def triangulo(self):\n",
        "    self.msg=\"El Area del triangulo b:\",self.valorb,\" * h:\",self.valorh,\"/2 = \"\n",
        "    self.resultado=self.valorb*self.valorh/2\n",
        "  def cuadrado(self):\n",
        "    self.msg=\"El Area del cuadrado b:\",self.valorb,\" * b:\",self.valorb,\" = \"\n",
        "    self.resultado=self.valorb*self.valorb\n",
        "  def rectangulo(self):\n",
        "    self.msg=\"El Area del rectangulo b:\",self.valorb,\" * h:\",self.valorh,\" = \"\n",
        "    self.resultado=self.valorb*self.valorh\n",
        "  def circulo(self):\n",
        "    self.msg=\"El Area del circulo pi * r\",self.radio,\"² = \"\n",
        "    self.resultado=self.pi*self.radio*self.radio\n",
        "  def imprimir(self):\n",
        "    print(self.msg,self.resultado)"
      ],
      "metadata": {
        "id": "lEdxnnHmCSvk"
      },
      "execution_count": null,
      "outputs": []
    },
    {
      "cell_type": "code",
      "source": [
        "obj=Figuras()\n",
        "obj.valorb=int(input(\"Ingrese el valor de b:\"))\n",
        "obj.valorh=int(input(\"Ingrese el valor de h:\"))\n",
        "obj.radio=int(input(\"Ingrese el valor de r:\"))\n",
        "obj.triangulo()\n",
        "obj.imprimir()\n",
        "obj.cuadrado()\n",
        "obj.imprimir()\n",
        "obj.rectangulo()\n",
        "obj.imprimir()\n",
        "obj.circulo()\n",
        "obj.imprimir()"
      ],
      "metadata": {
        "colab": {
          "base_uri": "https://localhost:8080/"
        },
        "id": "LBv83RzUF88q",
        "outputId": "8709ed1b-211b-45ef-ae79-3f3e812cbedf"
      },
      "execution_count": null,
      "outputs": [
        {
          "output_type": "stream",
          "name": "stdout",
          "text": [
            "Ingrese el valor de b:8\n",
            "Ingrese el valor de h:2\n",
            "Ingrese el valor de r:2\n",
            "('El Area del triangulo b:', 8, ' * h:', 2, '/2 = ') 8.0\n",
            "('El Area del cuadrado b:', 8, ' * b:', 8, ' = ') 64\n",
            "('El Area del rectangulo b:', 8, ' * h:', 2, ' = ') 16\n",
            "('El Area del circulo pi * r', 2, '² = ') 12.5664\n"
          ]
        }
      ]
    }
  ]
}