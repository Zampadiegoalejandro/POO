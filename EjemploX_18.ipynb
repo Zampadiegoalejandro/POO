{
  "nbformat": 4,
  "nbformat_minor": 0,
  "metadata": {
    "colab": {
      "provenance": [],
      "authorship_tag": "ABX9TyOFvnPiJWVUDllFQWhKjPhI",
      "include_colab_link": true
    },
    "kernelspec": {
      "name": "python3",
      "display_name": "Python 3"
    },
    "language_info": {
      "name": "python"
    }
  },
  "cells": [
    {
      "cell_type": "markdown",
      "metadata": {
        "id": "view-in-github",
        "colab_type": "text"
      },
      "source": [
        "<a href=\"https://colab.research.google.com/github/Zampadiegoalejandro/POO/blob/main/EjemploX_18.ipynb\" target=\"_parent\"><img src=\"https://colab.research.google.com/assets/colab-badge.svg\" alt=\"Open In Colab\"/></a>"
      ]
    },
    {
      "cell_type": "code",
      "execution_count": null,
      "metadata": {
        "colab": {
          "base_uri": "https://localhost:8080/",
          "height": 106
        },
        "id": "25gwmGCJVf8N",
        "outputId": "100f7bd5-b778-4a8a-e87f-cd8f661b9812"
      },
      "outputs": [
        {
          "output_type": "error",
          "ename": "SyntaxError",
          "evalue": "incomplete input (<ipython-input-1-311fdfbf143c>, line 23)",
          "traceback": [
            "\u001b[0;36m  File \u001b[0;32m\"<ipython-input-1-311fdfbf143c>\"\u001b[0;36m, line \u001b[0;32m23\u001b[0m\n\u001b[0;31m    \"\"\"\u001b[0m\n\u001b[0m    ^\u001b[0m\n\u001b[0;31mSyntaxError\u001b[0m\u001b[0;31m:\u001b[0m incomplete input\n"
          ]
        }
      ],
      "source": [
        "a=[[5,6,9,67],[3,23,89,44],[44,12,7,56],[44,45,54,34]]\n",
        "b=[[35,67,7,6,],[43,63,8,4],[5,52,4,6],[4,65,5,4]]\n",
        "c=[],[]\n",
        "d=[],[]\n",
        "for i in range(len(a)):\n",
        "  for j in range(len(a[i])):\n",
        "    r=a[i][j]+b[i][j]\n",
        "    c[i][j]=r\n",
        "    r=a[i][j]-b[i][j]\n",
        "    d[i][j]=r\n",
        "\n",
        "for i in range(len(a)):\n",
        "  for j in range(len(a[i])):\n",
        "    print(a[i][j], end=\" \")\n",
        "    print(\" \")\n",
        "    r=a[i][j]+b[i][j]\n",
        "    c[i][j]=r\n",
        "    r=a[i][j]-b[i][j]\n",
        "    d[i][j]=r\n",
        "\n",
        "\n",
        "\n",
        "\"\"\"\n",
        "for i in range(len(a)):\n",
        "  for j in range(len(a[i])):\n",
        "    print(a[i][j], end=\" \")"
      ]
    }
  ]
}