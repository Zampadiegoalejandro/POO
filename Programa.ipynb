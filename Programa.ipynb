{
  "nbformat": 4,
  "nbformat_minor": 0,
  "metadata": {
    "colab": {
      "provenance": [],
      "authorship_tag": "ABX9TyO2rwPf17ZyDfCAxiMzbE8k",
      "include_colab_link": true
    },
    "kernelspec": {
      "name": "python3",
      "display_name": "Python 3"
    },
    "language_info": {
      "name": "python"
    }
  },
  "cells": [
    {
      "cell_type": "markdown",
      "metadata": {
        "id": "view-in-github",
        "colab_type": "text"
      },
      "source": [
        "<a href=\"https://colab.research.google.com/github/Zampadiegoalejandro/POO/blob/main/Programa.ipynb\" target=\"_parent\"><img src=\"https://colab.research.google.com/assets/colab-badge.svg\" alt=\"Open In Colab\"/></a>"
      ]
    },
    {
      "cell_type": "code",
      "execution_count": null,
      "metadata": {
        "id": "6P0uyjar3C79"
      },
      "outputs": [],
      "source": []
    },
    {
      "cell_type": "markdown",
      "source": [],
      "metadata": {
        "id": "jdng0_XV3EmD"
      }
    },
    {
      "cell_type": "markdown",
      "source": [
        "Progama | Hecho por: diego alejandro sanchez sanabria |06/02/2025"
      ],
      "metadata": {
        "id": "H4O-RMaZ7S51"
      }
    },
    {
      "cell_type": "code",
      "source": [
        "class Saludo:\n",
        "  def __init__(self):\n",
        "    self.nombre=\"diego alejandro\"\n",
        "\n",
        "  def saludos(self):\n",
        "    print(\"hola\",self.nombre)\n"
      ],
      "metadata": {
        "id": "v1S6ZufK3Gns"
      },
      "execution_count": 12,
      "outputs": []
    },
    {
      "cell_type": "code",
      "source": [
        "x=Saludo()\n",
        "x.saludos()"
      ],
      "metadata": {
        "colab": {
          "base_uri": "https://localhost:8080/"
        },
        "id": "ZTvQzqRy7tK2",
        "outputId": "a6538793-0a8b-459c-c9f7-a1fbdf366b04"
      },
      "execution_count": 11,
      "outputs": [
        {
          "output_type": "stream",
          "name": "stdout",
          "text": [
            "hola diego alejandro\n"
          ]
        }
      ]
    }
  ]
}