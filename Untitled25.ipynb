{
  "nbformat": 4,
  "nbformat_minor": 0,
  "metadata": {
    "colab": {
      "provenance": [],
      "authorship_tag": "ABX9TyNtCxqIuYgcknelAnBlAZjO",
      "include_colab_link": true
    },
    "kernelspec": {
      "name": "python3",
      "display_name": "Python 3"
    },
    "language_info": {
      "name": "python"
    }
  },
  "cells": [
    {
      "cell_type": "markdown",
      "metadata": {
        "id": "view-in-github",
        "colab_type": "text"
      },
      "source": [
        "<a href=\"https://colab.research.google.com/github/Zampadiegoalejandro/POO/blob/main/Untitled25.ipynb\" target=\"_parent\"><img src=\"https://colab.research.google.com/assets/colab-badge.svg\" alt=\"Open In Colab\"/></a>"
      ]
    },
    {
      "cell_type": "code",
      "execution_count": null,
      "metadata": {
        "colab": {
          "base_uri": "https://localhost:8080/"
        },
        "id": "7eH2XZrfFvay",
        "outputId": "a3c0c2c3-f844-49c9-883e-e02c4da11abd"
      },
      "outputs": [
        {
          "output_type": "stream",
          "name": "stdout",
          "text": [
            "[[1, 'd', 70, 60, 80, 70.0], [2, 'p', 100, 90, 90, 93.33333333333333], [3, 'n', 90, 85, 76, 83.66666666666667]]\n",
            "d Reprobado\n",
            "p Aprobado\n",
            "n Aprobado\n"
          ]
        }
      ],
      "source": [
        "alumnos=[[1,\"d\",70,60,80],[2,\"p\",100,90,90],[3,\"n\",90,85,76]]\n",
        "alumnosp=[]\n",
        "x=[]\n",
        "for i in range(len(alumnos)):\n",
        "  for j in range(len(alumnos[0])):\n",
        "    x.append(alumnos[i][j])\n",
        "  p=(x[2]+x[3]+x[4])/3\n",
        "  x.append(p)\n",
        "  alumnosp.append(x)\n",
        "  x=[]\n",
        "print(alumnosp)\n",
        "for i in range(len(alumnos)):\n",
        "  if alumnosp[i][5]>=70 and alumnosp[i][2]>=70 and alumnosp[i][3]>=70 and alumnosp[i][4]>=70:\n",
        "    print(alumnosp[i][1],\"Aprobado\")\n",
        "  else:\n",
        "    print(alumnosp[i][1],\"Reprobado\")\n"
      ]
    }
  ]
}