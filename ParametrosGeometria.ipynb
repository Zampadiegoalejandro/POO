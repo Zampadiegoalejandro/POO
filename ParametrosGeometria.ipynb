{
  "nbformat": 4,
  "nbformat_minor": 0,
  "metadata": {
    "colab": {
      "provenance": [],
      "authorship_tag": "ABX9TyPjMgAZayVop++RRrazaWq7",
      "include_colab_link": true
    },
    "kernelspec": {
      "name": "python3",
      "display_name": "Python 3"
    },
    "language_info": {
      "name": "python"
    }
  },
  "cells": [
    {
      "cell_type": "markdown",
      "metadata": {
        "id": "view-in-github",
        "colab_type": "text"
      },
      "source": [
        "<a href=\"https://colab.research.google.com/github/Zampadiegoalejandro/POO/blob/main/ParametrosGeometria.ipynb\" target=\"_parent\"><img src=\"https://colab.research.google.com/assets/colab-badge.svg\" alt=\"Open In Colab\"/></a>"
      ]
    },
    {
      "cell_type": "code",
      "execution_count": null,
      "metadata": {
        "id": "_IMxuZzl-3co"
      },
      "outputs": [],
      "source": []
    },
    {
      "cell_type": "markdown",
      "source": [
        "diego alejandro sanchez sanabria | 13/02/2025 | parametros greometria"
      ],
      "metadata": {
        "id": "eKj_VvDc-83U"
      }
    },
    {
      "cell_type": "code",
      "source": [
        "class Figuras():\n",
        "  def __init__(self):\n",
        "    self.a=0\n",
        "    self.b=0\n",
        "    self.c=0\n",
        "  def selec(self):\n",
        "    print(\"Que opcion quieres\")\n",
        "    print(\"1. Circulo\")\n",
        "    print(\"2. Trapecio\")\n",
        "    print(\"3. Rectangulo\")\n",
        "    r=int(input(\"Opcion \"))\n",
        "    return(r)\n",
        "  def circulo(self,rad):\n",
        "    area=(3.1416*r**2)\n",
        "    return(area)\n",
        "  def trapecio(self,b1,b2,h):\n",
        "    area=((b1+b2)*h)\n",
        "    return(area)\n",
        "  def rectangulo(self,b, h):\n",
        "    area=(b*h)\n",
        "    return(area)"
      ],
      "metadata": {
        "id": "Td6eGvP5_HCu"
      },
      "execution_count": 17,
      "outputs": []
    },
    {
      "cell_type": "code",
      "source": [
        "obj=Figuras()\n",
        "men=obj.selec()\n",
        "if men==1:\n",
        "  obj.a=float(input(\"Escribe radio: \"))\n",
        "  resultado=obj.circulo(obj.a)\n",
        "  print(\"El area es de: \",resultado)\n",
        "elif men==2:\n",
        "  obj.a=float(input(\"Escribe la base 1 \"))\n",
        "  obj.b=float(input(\"Escribe la base 1 \"))\n",
        "  obj.c=float(input(\"Escribe la altura \"))\n",
        "  resultado=obj.trapecio(obj.a,obj.b,obj.c)\n",
        "  print(\"El are es de: \",resultado)\n",
        "elif men==3:\n",
        "  obj.a=float(input(\"Escribe la base \"))\n",
        "  obj.b=float(input(\"Escribe la altura \"))\n",
        "  resultado=obj.cuadrado(obj.a,obj.b)\n",
        "  print(\"El area es de: \",resultado)"
      ],
      "metadata": {
        "colab": {
          "base_uri": "https://localhost:8080/"
        },
        "id": "64J5wsKs_MeI",
        "outputId": "deafe2cc-ea10-44f6-cad4-47e0b8ec6905"
      },
      "execution_count": 20,
      "outputs": [
        {
          "output_type": "stream",
          "name": "stdout",
          "text": [
            "Que opcion quieres\n",
            "1. Circulo\n",
            "2. Trapecio\n",
            "3. Rectangulo\n",
            "Opcion 2\n",
            "Escribe la base 1 2\n",
            "Escribe la base 1 5\n",
            "Escribe la altura 2\n",
            "El are es de:  14.0\n"
          ]
        }
      ]
    },
    {
      "cell_type": "code",
      "source": [],
      "metadata": {
        "id": "mQEsfFSYDsX5"
      },
      "execution_count": null,
      "outputs": []
    }
  ]
}