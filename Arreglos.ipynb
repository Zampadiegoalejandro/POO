{
  "cells": [
    {
      "cell_type": "markdown",
      "metadata": {
        "id": "view-in-github",
        "colab_type": "text"
      },
      "source": [
        "<a href=\"https://colab.research.google.com/github/Zampadiegoalejandro/POO/blob/main/Arreglos.ipynb\" target=\"_parent\"><img src=\"https://colab.research.google.com/assets/colab-badge.svg\" alt=\"Open In Colab\"/></a>"
      ]
    },
    {
      "cell_type": "markdown",
      "source": [
        "Arreglos | diego alejandro sanchez sanabria | 27/02/2025"
      ],
      "metadata": {
        "id": "hm0O1njufi_l"
      }
    },
    {
      "cell_type": "code",
      "execution_count": null,
      "metadata": {
        "colab": {
          "base_uri": "https://localhost:8080/"
        },
        "id": "lfil4NeR-xsC",
        "outputId": "b99141fa-7111-44af-d87c-1efba9d2480d"
      },
      "outputs": [
        {
          "name": "stdout",
          "output_type": "stream",
          "text": [
            "20\n",
            "41\n",
            "6\n",
            "18\n",
            "23\n",
            "20\n",
            "41\n",
            "6\n",
            "18\n",
            "23\n",
            "20\n",
            "41\n",
            "6\n",
            "18\n",
            "23\n"
          ]
        }
      ],
      "source": [
        "edades=[20,41,6,18,23]\n",
        "for edad in edades:\n",
        "  print(edad)\n",
        "for i in range(len(edades)):\n",
        "  print(edades[i])\n",
        "  indice=0\n",
        "while indice<len(edades):\n",
        "  print(edades[indice])\n",
        "  indice+=1"
      ]
    },
    {
      "cell_type": "code",
      "execution_count": null,
      "metadata": {
        "colab": {
          "base_uri": "https://localhost:8080/"
        },
        "id": "MsSGXGONAmCW",
        "outputId": "6ff0d863-d7fd-4325-de7f-67869fbb7f21"
      },
      "outputs": [
        {
          "name": "stdout",
          "output_type": "stream",
          "text": [
            "[23, 1, 78]\n"
          ]
        }
      ],
      "source": [
        "numeros = []\n",
        "numeros.append(23)\n",
        "numeros.append(1)\n",
        "numeros.append(78)\n",
        "print(numeros)"
      ]
    },
    {
      "cell_type": "code",
      "execution_count": null,
      "metadata": {
        "colab": {
          "base_uri": "https://localhost:8080/"
        },
        "id": "wSrhrdNLBAw9",
        "outputId": "54a3ea30-e5de-42e0-d6c6-3fbe04008662"
      },
      "outputs": [
        {
          "name": "stdout",
          "output_type": "stream",
          "text": [
            "[10, 5, 3]\n"
          ]
        }
      ],
      "source": [
        "numeros=[]\n",
        "numeros=numeros+[10,5,3]\n",
        "print(numeros)"
      ]
    },
    {
      "cell_type": "code",
      "execution_count": null,
      "metadata": {
        "colab": {
          "base_uri": "https://localhost:8080/"
        },
        "id": "A568WIHmBU79",
        "outputId": "fb81b2c8-9a81-4d2b-b349-abd8b173cdc6"
      },
      "outputs": [
        {
          "name": "stdout",
          "output_type": "stream",
          "text": [
            "['hola', 'wi']\n"
          ]
        }
      ],
      "source": [
        "palabras=['hola','hello','wi']\n",
        "palabras.pop(-2)\n",
        "print(palabras)"
      ]
    },
    {
      "cell_type": "code",
      "execution_count": null,
      "metadata": {
        "colab": {
          "base_uri": "https://localhost:8080/"
        },
        "id": "fxMuDw51CIGk",
        "outputId": "48359cb6-ede2-4fc0-b221-a9d0a3b43e33"
      },
      "outputs": [
        {
          "name": "stdout",
          "output_type": "stream",
          "text": [
            "['hola', 'hello', 'wi']\n"
          ]
        }
      ],
      "source": [
        "palabras=['hola','hello','wi','wi']\n",
        "palabras.remove('wi')\n",
        "print(palabras)"
      ]
    },
    {
      "cell_type": "code",
      "execution_count": null,
      "metadata": {
        "colab": {
          "base_uri": "https://localhost:8080/"
        },
        "id": "Mh8prCRbDSz9",
        "outputId": "f1b012b0-f2b6-4a76-c1d8-27815be017a7"
      },
      "outputs": [
        {
          "name": "stdout",
          "output_type": "stream",
          "text": [
            "ingrese los datos de l  paersona  1\n",
            "Nombre: pepe\n",
            "indetificacion: 2\n",
            "ingrese los datos de l  paersona  2\n",
            "Nombre: pepa\n",
            "indetificacion: 4\n",
            "ingrese los datos de l  paersona  3\n",
            "Nombre: pipo\n",
            "indetificacion: 5\n",
            "Mostrando los dtos de la persona 1\n",
            "Nombre:  pepe\n",
            "Indetificacion:  2\n",
            "Mostrando los dtos de la persona 2\n",
            "Nombre:  pepa\n",
            "Indetificacion:  4\n",
            "Mostrando los dtos de la persona 3\n",
            "Nombre:  pipo\n",
            "Indetificacion:  5\n"
          ]
        }
      ],
      "source": [
        "nombre=[]\n",
        "indetificacion=[]\n",
        "tamaño=3\n",
        "for i in range(tamaño):\n",
        "  print(\"ingrese los datos de l  paersona \", i+1)\n",
        "  nombres=input(\"Nombre: \")\n",
        "  indetificaciones=input(\"indetificacion: \")\n",
        "  nombre.append(nombres)\n",
        "  indetificacion.append(indetificaciones)\n",
        "for i in range(tamaño):\n",
        "  print(\"Mostrando los dtos de la persona\", i+1)\n",
        "  print(\"Nombre: \", nombre[i])\n",
        "  print(\"Indetificacion: \", indetificacion[i])"
      ]
    },
    {
      "cell_type": "code",
      "execution_count": null,
      "metadata": {
        "colab": {
          "base_uri": "https://localhost:8080/"
        },
        "id": "aDfWmSiJFmB-",
        "outputId": "d7dc8925-7682-4896-ca5a-65d3112f8c25"
      },
      "outputs": [
        {
          "output_type": "stream",
          "name": "stdout",
          "text": [
            "ingrese los datos de l  paersona  1\n",
            "Nombre: yu\n",
            "indetificacion: 2\n",
            "ingrese los datos de l  paersona  2\n",
            "Nombre: yi\n",
            "indetificacion: 3\n",
            "ingrese los datos de l  paersona  3\n",
            "Nombre: yo\n",
            "indetificacion: 7\n",
            "Mostrando los dtos de la persona 1\n",
            "Nombre:  yu\n",
            "Indetificacion:  2\n",
            "Mostrando los dtos de la persona 2\n",
            "Nombre:  yi\n",
            "Indetificacion:  3\n",
            "Mostrando los dtos de la persona 3\n",
            "Nombre:  yo\n",
            "Indetificacion:  7\n"
          ]
        }
      ],
      "source": [
        "nombre=[]\n",
        "indetificacion=[]\n",
        "tamaño=3\n",
        "for i in range(tamaño):\n",
        "  print(\"ingrese los datos de l  paersona \", i+1)\n",
        "  nombres=input(\"Nombre: \")\n",
        "  indetificaciones=input(\"indetificacion: \")\n",
        "  nombre.append(nombres)\n",
        "  indetificacion.append(indetificaciones)\n",
        "for i in range(tamaño):\n",
        "  print(\"Mostrando los dtos de la persona\", i+1)\n",
        "  print(\"Nombre: \", nombre[i])\n",
        "  print(\"Indetificacion: \", indetificacion[i])"
      ]
    },
    {
      "cell_type": "code",
      "source": [
        "nombre=[]\n",
        "indetificacion=[]\n",
        "tam=0\n",
        "resp=\"s\"\n",
        "while resp==\"s\":\n",
        "  print(\"ingrese los datos de l  paersona \", tam+1)\n",
        "  nombres=input(\"Nombre: \")\n",
        "  indetificaciones=input(\"indetificacion: \")\n",
        "  nombre.append(nombres)\n",
        "  indetificacion.append(indetificaciones)\n",
        "  resp=input(\"Quieres otro? si: 's'  no: 'n' \")\n",
        "  for i in range(tam):\n",
        "    print(\"Mostrando los dtos de la persona\", i+1)\n",
        "    print(\"Nombre: \", nombre[i])\n",
        "    print(\"Indetificacion: \", indetificacion[i])"
      ],
      "metadata": {
        "colab": {
          "base_uri": "https://localhost:8080/"
        },
        "id": "BiJ3FsVfGXSV",
        "outputId": "a5d23efa-4e30-48d1-d2de-bd9844ba271d"
      },
      "execution_count": null,
      "outputs": [
        {
          "output_type": "stream",
          "name": "stdout",
          "text": [
            "ingrese los datos de l  paersona  1\n"
          ]
        }
      ]
    }
  ],
  "metadata": {
    "colab": {
      "provenance": [],
      "authorship_tag": "ABX9TyNZzX3LL4hiV/iBn/VT6CJW",
      "include_colab_link": true
    },
    "kernelspec": {
      "display_name": "Python 3",
      "name": "python3"
    },
    "language_info": {
      "name": "python"
    }
  },
  "nbformat": 4,
  "nbformat_minor": 0
}