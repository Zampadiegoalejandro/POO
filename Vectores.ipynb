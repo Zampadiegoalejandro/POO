{
  "nbformat": 4,
  "nbformat_minor": 0,
  "metadata": {
    "colab": {
      "provenance": [],
      "authorship_tag": "ABX9TyNnFRnXrRP5XdHcWA9P+9ho",
      "include_colab_link": true
    },
    "kernelspec": {
      "name": "python3",
      "display_name": "Python 3"
    },
    "language_info": {
      "name": "python"
    }
  },
  "cells": [
    {
      "cell_type": "markdown",
      "metadata": {
        "id": "view-in-github",
        "colab_type": "text"
      },
      "source": [
        "<a href=\"https://colab.research.google.com/github/Zampadiegoalejandro/POO/blob/main/Vectores.ipynb\" target=\"_parent\"><img src=\"https://colab.research.google.com/assets/colab-badge.svg\" alt=\"Open In Colab\"/></a>"
      ]
    },
    {
      "cell_type": "markdown",
      "source": [
        "Vectores | diego alejandro sanchez snabaria | 21/2/2025"
      ],
      "metadata": {
        "id": "Hbg5xBNEVJR_"
      }
    },
    {
      "cell_type": "code",
      "execution_count": null,
      "metadata": {
        "colab": {
          "base_uri": "https://localhost:8080/"
        },
        "id": "s-AJoGdBRM_V",
        "outputId": "063dbe34-5baf-4954-ff56-a7a238abadf6"
      },
      "outputs": [
        {
          "output_type": "stream",
          "name": "stdout",
          "text": [
            "36\n",
            "1\n"
          ]
        }
      ],
      "source": [
        "import random\n",
        "x=\"hola mundo tengo hasta diciembre apa\" #Vector\n",
        "print(len(x)) #len - longitud\n",
        "#y=x.replace(\"a\",\"e\") Ramplasa la ultima letra \"e\"\n",
        "#print(random[0,35])\n",
        "l=len(x)\n",
        "u=random.randint(0,l-1)\n",
        "print(u)"
      ]
    }
  ]
}