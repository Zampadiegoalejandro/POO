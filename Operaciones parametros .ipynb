{
  "cells": [
    {
      "cell_type": "markdown",
      "metadata": {
        "id": "view-in-github",
        "colab_type": "text"
      },
      "source": [
        "<a href=\"https://colab.research.google.com/github/Zampadiegoalejandro/POO/blob/main/Operaciones%20parametros%20.ipynb\" target=\"_parent\"><img src=\"https://colab.research.google.com/assets/colab-badge.svg\" alt=\"Open In Colab\"/></a>"
      ]
    },
    {
      "cell_type": "code",
      "execution_count": null,
      "metadata": {
        "id": "E0xeaSGK8FtJ"
      },
      "outputs": [],
      "source": []
    },
    {
      "cell_type": "markdown",
      "metadata": {
        "id": "I1cBiy_s8IWV"
      },
      "source": [
        "Diego alejandro sanchez sanabira | 13/02/2025 | operaicones"
      ]
    },
    {
      "cell_type": "code",
      "execution_count": null,
      "metadata": {
        "colab": {
          "background_save": true
        },
        "id": "8EgWl2Iy8QIu"
      },
      "outputs": [],
      "source": [
        "class Operaciones():\n",
        "  def __init__(self,a,b):\n",
        "    self.a=a\n",
        "    self.b=b\n",
        "    def suma(self):\n",
        "        self.resp=self.a+self.b\n",
        "        return(self.resp)\n",
        "        a=input(\"Dame el primer valor\")\n",
        "        b=input(\"Dame el segundo valor\")"
      ]
    },
    {
      "cell_type": "code",
      "execution_count": null,
      "metadata": {
        "id": "vQInZ70b8tWd",
        "colab": {
          "base_uri": "https://localhost:8080/"
        },
        "outputId": "4403d04d-c152-4b3d-846b-931ad454d658"
      },
      "outputs": [
        {
          "name": "stdout",
          "output_type": "stream",
          "text": [
            "Dame el primer valor 2\n"
          ]
        }
      ],
      "source": [
        "v1=int(input(\"Dame el primer valor\")\n",
        "v2=int(input(\"Dame el segundo valor\")\n",
        "obj=Operaciones(v1,v2)\n",
        "obj.suma(v1,v2)\n",
        "r=obj.suma(v1,v2)\n",
        "print(\"La suma de los valores es:\",r)"
      ]
    }
  ],
  "metadata": {
    "colab": {
      "provenance": [],
      "authorship_tag": "ABX9TyPxIURadQTPHs8o2Pjwpqjw",
      "include_colab_link": true
    },
    "kernelspec": {
      "display_name": "Python 3",
      "name": "python3"
    },
    "language_info": {
      "name": "python"
    }
  },
  "nbformat": 4,
  "nbformat_minor": 0
}