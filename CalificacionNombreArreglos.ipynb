{
  "nbformat": 4,
  "nbformat_minor": 0,
  "metadata": {
    "colab": {
      "provenance": [],
      "authorship_tag": "ABX9TyOB+ENYQw1zjXRWJqJ2WA/N",
      "include_colab_link": true
    },
    "kernelspec": {
      "name": "python3",
      "display_name": "Python 3"
    },
    "language_info": {
      "name": "python"
    }
  },
  "cells": [
    {
      "cell_type": "markdown",
      "metadata": {
        "id": "view-in-github",
        "colab_type": "text"
      },
      "source": [
        "<a href=\"https://colab.research.google.com/github/Zampadiegoalejandro/POO/blob/main/CalificacionNombreArreglos.ipynb\" target=\"_parent\"><img src=\"https://colab.research.google.com/assets/colab-badge.svg\" alt=\"Open In Colab\"/></a>"
      ]
    },
    {
      "cell_type": "markdown",
      "source": [
        "CalificacionNombreArreglos | deigo alejandro sanchez sanabria | 04/03/2025"
      ],
      "metadata": {
        "id": "4w1CXafq5bq8"
      }
    },
    {
      "cell_type": "code",
      "execution_count": null,
      "metadata": {
        "colab": {
          "base_uri": "https://localhost:8080/"
        },
        "id": "JmW01P7f5bGh",
        "outputId": "947bfa3b-80ad-4729-d6bf-82c7004c036e"
      },
      "outputs": [
        {
          "output_type": "stream",
          "name": "stdout",
          "text": [
            "Ingrese el nombre del alumno: gg\n",
            "Ingrese la calificación 1: 10\n",
            "Ingrese la calificación 2: 10\n",
            "Ingrese la calificación 3: 1\n",
            "¿Desea agregar otro alumno? (s/n): n\n",
            "Alumno:  gg\n",
            "Calificaciones:  10 10 1\n",
            "Promedio:  7.0\n",
            "Resultado: Reprobado\n",
            "                    \n"
          ]
        }
      ],
      "source": [
        "class Escuela():\n",
        "    def __init__(self):\n",
        "        self.nombres = []\n",
        "        self.calificaciones1 = []\n",
        "        self.calificaciones2 = []\n",
        "        self.calificaciones3 = []\n",
        "        self.promedios = []\n",
        "    def ingresar(self):\n",
        "        resp = \"s\"\n",
        "        while resp == \"s\":\n",
        "            nombre = input(\"Ingrese el nombre del alumno: \")\n",
        "            calificacion1 = int(input(\"Ingrese la calificación 1: \"))\n",
        "            calificacion2 = int(input(\"Ingrese la calificación 2: \"))\n",
        "            calificacion3 = int(input(\"Ingrese la calificación 3: \"))\n",
        "            self.nombres.append(nombre)\n",
        "            self.calificaciones1.append(calificacion1)\n",
        "            self.calificaciones2.append(calificacion2)\n",
        "            self.calificaciones3.append(calificacion3)\n",
        "            promedio = (calificacion1 + calificacion2 + calificacion3) / 3\n",
        "            self.promedios.append(promedio)\n",
        "            resp = input(\"¿Desea agregar otro alumno? (s/n): \")\n",
        "    def resultados(self):\n",
        "        for i in range(len(self.nombres)):\n",
        "            nombre = self.nombres[i]\n",
        "            calificacion1 = self.calificaciones1[i]\n",
        "            calificacion2 = self.calificaciones2[i]\n",
        "            calificacion3 = self.calificaciones3[i]\n",
        "            promedio = self.promedios[i]\n",
        "\n",
        "            print(\"Alumno: \", nombre)\n",
        "            print(\"Calificaciones: \", calificacion1, calificacion2, calificacion3)\n",
        "            print(\"Promedio: \", promedio)\n",
        "\n",
        "            if promedio >= 9:\n",
        "                print(\"Resultado: Aprobado\")\n",
        "            elif promedio <= 7:\n",
        "                print(\"Resultado: Reprobado\")\n",
        "            else:\n",
        "                print(\"Resultado: Necesita mejorar\")\n",
        "            print(\" \" * 20)\n",
        "\n",
        "\n",
        "escuela = Escuela()\n",
        "escuela.ingresar()\n",
        "escuela.resultados()"
      ]
    }
  ]
}