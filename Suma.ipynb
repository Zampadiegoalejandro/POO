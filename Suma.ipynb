{
  "nbformat": 4,
  "nbformat_minor": 0,
  "metadata": {
    "colab": {
      "provenance": [],
      "authorship_tag": "ABX9TyNezJ6o6boVI1E1VLtIOIqr",
      "include_colab_link": true
    },
    "kernelspec": {
      "name": "python3",
      "display_name": "Python 3"
    },
    "language_info": {
      "name": "python"
    }
  },
  "cells": [
    {
      "cell_type": "markdown",
      "metadata": {
        "id": "view-in-github",
        "colab_type": "text"
      },
      "source": [
        "<a href=\"https://colab.research.google.com/github/Zampadiegoalejandro/POO/blob/main/Suma.ipynb\" target=\"_parent\"><img src=\"https://colab.research.google.com/assets/colab-badge.svg\" alt=\"Open In Colab\"/></a>"
      ]
    },
    {
      "cell_type": "code",
      "execution_count": null,
      "metadata": {
        "id": "91am19uF-0dH"
      },
      "outputs": [],
      "source": []
    },
    {
      "cell_type": "markdown",
      "source": [
        "SUMA | Hecho por: diego alejandro sanchez sanabria | 06/02/2025"
      ],
      "metadata": {
        "id": "4NI3A_aS-3fy"
      }
    },
    {
      "cell_type": "code",
      "source": [
        "class Suma:\n",
        "  def __init__(self):\n",
        "    self.valor1=1\n",
        "    self.valor2=2\n",
        "  def operacion(self):\n",
        "    resultado=self.valor1+self.valor2\n",
        "    print(\"Respuesta=\",resultado)\n",
        "\n",
        "obj=Suma()\n",
        "obj.operacion()"
      ],
      "metadata": {
        "colab": {
          "base_uri": "https://localhost:8080/"
        },
        "id": "A_srrQ4C_Cxq",
        "outputId": "46b3c754-8383-4ee3-b94b-e2fd5d761d9f"
      },
      "execution_count": null,
      "outputs": [
        {
          "output_type": "stream",
          "name": "stdout",
          "text": [
            "Respuesta= 3\n"
          ]
        }
      ]
    },
    {
      "cell_type": "markdown",
      "source": [
        "Variante 2 pidiendo valores"
      ],
      "metadata": {
        "id": "JIbsdC7kDFie"
      }
    },
    {
      "cell_type": "code",
      "source": [
        "class Operaciones:\n",
        "  def __init__(self):\n",
        "    self.valor1=0\n",
        "    self.valor2=0\n",
        "    self.resultado=0\n",
        "    self.msg=\"\"\n",
        "  def suma(self):\n",
        "    self.msg=\"La suma de \",self.valor1,\" + \",self.valor2,\" = \"\n",
        "    self.resultado=self.valor1+self.valor2\n",
        "  def multiplicacion(self):\n",
        "    self.msg=\"La multiplicacion de \",self.valor1,\" + \",self.valor2,\" = \"\n",
        "    self.resultado=self.valor1*self.valor2\n",
        "  def division(self):\n",
        "    self.msg=\"La divicion de \",self.valor1,\" + \",self.valor2,\" = \"\n",
        "    self.resultado=self.valor1/self.valor2\n",
        "  def imprimir(self):\n",
        "    print(self.msg,self.resultado)\n"
      ],
      "metadata": {
        "id": "JYh-IhEwCtqO"
      },
      "execution_count": null,
      "outputs": []
    },
    {
      "cell_type": "code",
      "source": [
        "obj=Operaciones()\n",
        "obj.valor1=int(input(\"Ingrese el primer valor:\"))\n",
        "obj.valor2=int(input(\"Ingrese el segundo valor:\"))\n",
        "obj.suma()\n",
        "obj.imprimir()\n",
        "obj.multiplicacion()\n",
        "obj.imprimir()\n",
        "obj.division()\n",
        "obj.imprimir()"
      ],
      "metadata": {
        "colab": {
          "base_uri": "https://localhost:8080/"
        },
        "id": "tZaOgrD_D2F1",
        "outputId": "b5ea1b51-9707-427e-dced-a554576fe132"
      },
      "execution_count": null,
      "outputs": [
        {
          "output_type": "stream",
          "name": "stdout",
          "text": [
            "Ingrese el primer valor:20\n",
            "Ingrese el segundo valor:2\n",
            "('La suma de ', 20, ' + ', 2, ' = ') 22\n",
            "('La multiplicacion de ', 20, ' + ', 2, ' = ') 40\n",
            "('La divicion de ', 20, ' + ', 2, ' = ') 10.0\n"
          ]
        }
      ]
    }
  ]
}