{
  "nbformat": 4,
  "nbformat_minor": 0,
  "metadata": {
    "colab": {
      "provenance": [],
      "authorship_tag": "ABX9TyN+Hn3/njcmEwVghRoBCtbz",
      "include_colab_link": true
    },
    "kernelspec": {
      "name": "python3",
      "display_name": "Python 3"
    },
    "language_info": {
      "name": "python"
    }
  },
  "cells": [
    {
      "cell_type": "markdown",
      "metadata": {
        "id": "view-in-github",
        "colab_type": "text"
      },
      "source": [
        "<a href=\"https://colab.research.google.com/github/Zampadiegoalejandro/POO/blob/main/Untitled23.ipynb\" target=\"_parent\"><img src=\"https://colab.research.google.com/assets/colab-badge.svg\" alt=\"Open In Colab\"/></a>"
      ]
    },
    {
      "cell_type": "code",
      "execution_count": null,
      "metadata": {
        "colab": {
          "base_uri": "https://localhost:8080/"
        },
        "id": "_RPe6EBUjbZW",
        "outputId": "022b97b7-5e28-4bcd-a53b-4e06fcf4edad"
      },
      "outputs": [
        {
          "name": "stdout",
          "output_type": "stream",
          "text": [
            "DESCOMPOSICIÓN EN NÚMEROS PRIMOS\n",
            "Escriba un número entero mayor que 1: 4\n"
          ]
        }
      ],
      "source": [
        "def main():\n",
        "  print(\"DESCOMPOSICIÓN EN NÚMEROS PRIMOS\")\n",
        "  numero = int(input(\"Escriba un número entero mayor que 1: \"))\n",
        "  while numero <= 1:\n",
        "    numero = int(input(f\"{numero} no es mayor que 1. Inténtelo de nuevo: \"))\n",
        "    copia = numero\n",
        "    print(\"Descomposición en factores primos:\", end=\"\")\n",
        "    for i in range(2, numero + 1):\n",
        "      while copia % i == 0:\n",
        "        copia = copia // i\n",
        "        print(f\" {i}\", end=\"\")\n",
        "        print()\n",
        "if __name__ == \"__main__\":\n",
        "  main()\n"
      ]
    },
    {
      "cell_type": "code",
      "source": [
        "def main():\n",
        "  print(\"DESCOMPOSICIÓN EN NÚMEROS PRIMOS\")\n",
        "  numero = int(input(\"Escriba un número entero mayor que 1: \"))\n",
        "  while numero <= 1:\n",
        "    numero = int(input(f\"{numero} no es mayor que 1. Inténtelo de nuevo: \"))\n",
        "    copia = numero\n",
        "    print(\"Descomposición en factores primos:\", end=\"\")\n",
        "    i = 2\n",
        "    while copia > i:\n",
        "      while copia % i == 0:\n",
        "        copia = copia // i\n",
        "        print(f\" {i}\", end=\"\")\n",
        "        i += 1\n",
        "        if copia != 1:\n",
        "          print(f\" {copia}\")\n",
        "if __name__ == \"__main__\":\n",
        " main()"
      ],
      "metadata": {
        "id": "64yQg0hDkcgR"
      },
      "execution_count": null,
      "outputs": []
    },
    {
      "cell_type": "code",
      "source": [
        "class CuentaPrimos():\n",
        "    def __init__(self):\n",
        "        self.count = 0\n",
        "\n",
        "    def es_primo(self, numero):\n",
        "        if numero < 2:\n",
        "            return False\n",
        "        for i in range(2, int(numero**0.5) + 1):\n",
        "            if numero % i == 0:\n",
        "                return False\n",
        "        return True\n",
        "\n",
        "    def pedir_numero_primo(self):\n",
        "        num = input(\"Escriba un número primo: \")\n",
        "        try:\n",
        "            num = int(num)\n",
        "            while not self.es_primo(num):\n",
        "                mensaje = str(num) + \" no es un número primo. Inténtelo de nuevo: \"\n",
        "                num = input(mensaje)\n",
        "                num = int(num)\n",
        "\n",
        "            self.count += 1\n",
        "            return True\n",
        "        except ValueError:\n",
        "            print(\"Por favor, introduzca un número válido.\")\n",
        "            return False\n",
        "\n",
        "    def preguntar_continuar(self):\n",
        "        continue_input = input(\"¿Quiere escribir otro número primo? (S/N): \")\n",
        "        return continue_input == \"S\" or continue_input == \"s\"\n",
        "\n",
        "    def mostrar_resultado(self):\n",
        "        if self.count == 1:\n",
        "            print(\"Ha escrito \" + str(self.count) + \" número primo.\")\n",
        "        else:\n",
        "            print(\"Ha escrito \" + str(self.count) + \" números primos.\")\n",
        "\n",
        "    def ejecutar(self):\n",
        "        print(\"CUENTA PRIMOS (1)\")\n",
        "\n",
        "        while True:\n",
        "            self.pedir_numero_primo()\n",
        "            if not self.preguntar_continuar():\n",
        "                break\n",
        "        self.mostrar_resultado()\n",
        "\n",
        "programa = CuentaPrimos()\n",
        "programa.ejecutar()"
      ],
      "metadata": {
        "id": "ARNaWy2I04n0",
        "outputId": "2fa986ea-2e8d-4e1d-efd3-4811b226dda4",
        "colab": {
          "base_uri": "https://localhost:8080/"
        }
      },
      "execution_count": null,
      "outputs": [
        {
          "output_type": "stream",
          "name": "stdout",
          "text": [
            "CUENTA PRIMOS (1)\n",
            "Escriba un número primo: 4\n",
            "4 no es un número primo. Inténtelo de nuevo: 2\n",
            "¿Quiere escribir otro número primo? (S/N): s\n",
            "Escriba un número primo: 2\n",
            "¿Quiere escribir otro número primo? (S/N): n\n",
            "Ha escrito 2 números primos.\n"
          ]
        }
      ]
    }
  ]
}