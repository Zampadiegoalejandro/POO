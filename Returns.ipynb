{
  "cells": [
    {
      "cell_type": "markdown",
      "metadata": {
        "id": "view-in-github",
        "colab_type": "text"
      },
      "source": [
        "<a href=\"https://colab.research.google.com/github/Zampadiegoalejandro/POO/blob/main/Returns.ipynb\" target=\"_parent\"><img src=\"https://colab.research.google.com/assets/colab-badge.svg\" alt=\"Open In Colab\"/></a>"
      ]
    },
    {
      "cell_type": "markdown",
      "source": [
        "Returns | diego alejandro sanchez sanabria | 25/02/2025"
      ],
      "metadata": {
        "id": "GdHFy6r0fAwT"
      }
    },
    {
      "cell_type": "code",
      "execution_count": null,
      "metadata": {
        "id": "gyrUvJ9Et6w2"
      },
      "outputs": [],
      "source": [
        "class holaMundo:\n",
        "  def __init__(self):\n",
        "    self.w=0\n",
        "    self.z=0\n",
        "  def a(self):\n",
        "    r=\"hola\"\n",
        "    return(r)\n",
        "  def b(self):\n",
        "    n=input(\"Ingrese tu nombre: \")\n",
        "    return(n)\n",
        "  def c(self,n,r):\n",
        "    print(r+\" \"+n+\" Buen dia\")"
      ]
    },
    {
      "cell_type": "code",
      "execution_count": null,
      "metadata": {
        "colab": {
          "base_uri": "https://localhost:8080/"
        },
        "id": "0fnA-6A72yTl",
        "outputId": "31fd914b-9fcf-4100-b0c4-1bc739188686"
      },
      "outputs": [
        {
          "name": "stdout",
          "output_type": "stream",
          "text": [
            "hola pepe Buen dia\n",
            "Ingrese tu nombre: pepe\n"
          ]
        }
      ],
      "source": [
        "x=holaMundo()\n",
        "r=x.a()\n",
        "n=x.b()\n",
        "x.c(n,r)"
      ]
    },
    {
      "cell_type": "code",
      "source": [
        "x=holaMundo()\n",
        "x.c(x.b(),x.a())"
      ],
      "metadata": {
        "colab": {
          "base_uri": "https://localhost:8080/"
        },
        "id": "hc9S5O4i4vxI",
        "outputId": "aea9f98b-3d1c-46b8-cf0f-a9a6a04e16fe"
      },
      "execution_count": null,
      "outputs": [
        {
          "output_type": "stream",
          "name": "stdout",
          "text": [
            "Ingrese tu nombre: julio\n",
            "hola julio Buen dia\n"
          ]
        }
      ]
    },
    {
      "cell_type": "code",
      "execution_count": null,
      "metadata": {
        "colab": {
          "base_uri": "https://localhost:8080/"
        },
        "id": "OzSslqDKzaQa",
        "outputId": "34a13561-8cf0-4e27-f6f7-29f8cc07e233"
      },
      "outputs": [
        {
          "name": "stdout",
          "output_type": "stream",
          "text": [
            "Ingrese tu nombre: juan\n",
            "hola juan Buen dia\n"
          ]
        }
      ],
      "source": [
        "obj=holaMundo(0,0)\n",
        "r=obj.a()\n",
        "n=obj.b()\n",
        "obj.c(n,r)"
      ]
    }
  ],
  "metadata": {
    "colab": {
      "provenance": [],
      "authorship_tag": "ABX9TyPyVncGV1O0syaeiX1NSeRd",
      "include_colab_link": true
    },
    "kernelspec": {
      "display_name": "Python 3",
      "name": "python3"
    },
    "language_info": {
      "name": "python"
    }
  },
  "nbformat": 4,
  "nbformat_minor": 0
}