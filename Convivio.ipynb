{
  "nbformat": 4,
  "nbformat_minor": 0,
  "metadata": {
    "colab": {
      "provenance": [],
      "authorship_tag": "ABX9TyNYQ6e0Uib60fKc8FvioLot",
      "include_colab_link": true
    },
    "kernelspec": {
      "name": "python3",
      "display_name": "Python 3"
    },
    "language_info": {
      "name": "python"
    }
  },
  "cells": [
    {
      "cell_type": "markdown",
      "metadata": {
        "id": "view-in-github",
        "colab_type": "text"
      },
      "source": [
        "<a href=\"https://colab.research.google.com/github/Zampadiegoalejandro/POO/blob/main/Convivio.ipynb\" target=\"_parent\"><img src=\"https://colab.research.google.com/assets/colab-badge.svg\" alt=\"Open In Colab\"/></a>"
      ]
    },
    {
      "cell_type": "code",
      "execution_count": null,
      "metadata": {
        "id": "Dukhu8U13PCo"
      },
      "outputs": [],
      "source": []
    },
    {
      "cell_type": "markdown",
      "source": [
        "Diego alejandro sanchez snabaria | 13/02/2025 | Convivo"
      ],
      "metadata": {
        "id": "CGRuzrriJuAy"
      }
    },
    {
      "cell_type": "markdown",
      "source": [
        "Conivio"
      ],
      "metadata": {
        "id": "PgV-Bhep3U_G"
      }
    },
    {
      "cell_type": "markdown",
      "source": [],
      "metadata": {
        "id": "-Azd_wTh3Pnf"
      }
    },
    {
      "cell_type": "code",
      "source": [
        "class Convivio:\n",
        "  def__init__(self):\n",
        "    self.Invitados=0\n",
        "    self.carbon=0\n",
        "    self.carne=0\n",
        "    self.refresco=0\n",
        "    self.h=0\n",
        "    self.m=0\n",
        "    self.coop=0\n",
        "    self.complementos=0\n",
        "    self.costComple\n",
        "    self.costoA=160\n",
        "    self.costosB=190\n",
        "    self.costosT=25\n",
        "    self.costosCh=25\n",
        "    self.costosRef=22\n",
        "    self.costosPol=50\n",
        "    self.costosSal=30\n",
        "    self.csotosCar=20\n",
        "    def invitados(self):\n",
        "      self.n=int(input(\"Cantidad Hombre: \"))\n",
        "      self.m=int(input(\"Cantidad Mujer: \"))\n",
        "      self.tInvitados=self.n+self.m\n",
        "    def cantCarne(self):\n",
        "      self.carne=(self.h*.8)+(self.m*.5)\n",
        "      self.costosA=self.carne*.30\n",
        "      self.costosB=self.carne*.30\n",
        "      self.costosCh=self.carne*.15\n",
        "      self.costosPol=self.carne*.15\n",
        "      self.costosSal=self.carne*.10\n",
        "    def cantComp(self):\n",
        "      n=random.int(1,self.Invitados)\n",
        "      self.costComple=(n*self.complementos)*n\n",
        "    def cantRef(self):\n",
        "      self.refresco=self.tInvitados*self.costosRef\n",
        "    def cantCarbon(self):\n",
        "      self.carbon=\n"
      ],
      "metadata": {
        "id": "YSQqGiqR3SbM"
      },
      "execution_count": null,
      "outputs": []
    }
  ]
}