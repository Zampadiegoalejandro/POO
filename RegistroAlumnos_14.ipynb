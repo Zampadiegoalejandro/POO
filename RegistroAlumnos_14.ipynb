{
  "nbformat": 4,
  "nbformat_minor": 0,
  "metadata": {
    "colab": {
      "provenance": [],
      "authorship_tag": "ABX9TyPj8JT9TXP9hzd/+FgSO5ny",
      "include_colab_link": true
    },
    "kernelspec": {
      "name": "python3",
      "display_name": "Python 3"
    },
    "language_info": {
      "name": "python"
    }
  },
  "cells": [
    {
      "cell_type": "markdown",
      "metadata": {
        "id": "view-in-github",
        "colab_type": "text"
      },
      "source": [
        "<a href=\"https://colab.research.google.com/github/Zampadiegoalejandro/POO/blob/main/RegistroAlumnos_14.ipynb\" target=\"_parent\"><img src=\"https://colab.research.google.com/assets/colab-badge.svg\" alt=\"Open In Colab\"/></a>"
      ]
    },
    {
      "cell_type": "code",
      "execution_count": null,
      "metadata": {
        "colab": {
          "base_uri": "https://localhost:8080/"
        },
        "id": "Og1Il1_BLmgn",
        "outputId": "ae8bd80f-d370-4a63-9489-e9b80d4d22c1"
      },
      "outputs": [
        {
          "output_type": "stream",
          "name": "stdout",
          "text": [
            "Nombre del alumno: rere\n",
            "Edad del alumno: 34\n",
            "Sexo del alumno (hombre/mujer): hombre\n",
            "¿Desea agregar otro alumno? (s/n): s\n",
            "¿Desea agregar otro alumno? (s/n): didi\n",
            "--- Resultados ---\n",
            "Cantidad de alumnos:  1\n",
            "Cantidad de mujeres:  0\n",
            "Cantidad de hombres:  1\n",
            "Promedio de edad mujeres: N/A\n",
            "Promedio de edad hombres:  34.0\n"
          ]
        }
      ],
      "source": [
        "class RegistroAlumnos:\n",
        "    def __init__(self):\n",
        "        self.alumnos = []\n",
        "        self.mujeres = 0\n",
        "        self.hombres = 0\n",
        "        self.suma_edades = 0\n",
        "        self.suma_edades_mujeres = 0\n",
        "        self.suma_edades_hombres = 0\n",
        "\n",
        "    def registrar_alumno(self):\n",
        "        resp = \"s\"\n",
        "        while resp.lower() == \"s\":\n",
        "            nombre = input(\"Nombre del alumno: \")\n",
        "            edad = int(input(\"Edad del alumno: \"))\n",
        "            sexo = input(\"Sexo del alumno (hombre/mujer): \").lower()\n",
        "            if sexo == 'mujer':\n",
        "                self.mujeres = self.mujeres + 1\n",
        "                self.suma_edades_mujeres = self.suma_edades_mujeres + edad\n",
        "            elif sexo == 'hombre':\n",
        "                self.hombres = self.hombres + 1\n",
        "                self.suma_edades_hombres = self.suma_edades_hombres + edad\n",
        "            else:\n",
        "                print(\"Sexo no válido. Se considerará como no binario para el promedio.\")\n",
        "            self.suma_edades = self.suma_edades + edad\n",
        "            self.alumnos.append((nombre, edad, sexo))\n",
        "            resp = input(\"¿Desea agregar otro alumno? (s/n): \")\n",
        "\n",
        "    def mostrar_resultados(self):\n",
        "        cantidad_alumnos = len(self.alumnos)\n",
        "        if cantidad_alumnos > 0:\n",
        "            promedio_edad_global = self.suma_edades / cantidad_alumnos\n",
        "            if self.mujeres > 0:\n",
        "                promedio_edad_mujeres = self.suma_edades_mujeres / self.mujeres\n",
        "            else:\n",
        "                promedio_edad_mujeres = 0\n",
        "            if self.hombres > 0:\n",
        "                promedio_edad_hombres = self.suma_edades_hombres / self.hombres\n",
        "            else:\n",
        "                promedio_edad_hombres = 0\n",
        "        else:\n",
        "            promedio_edad_global = 0\n",
        "            promedio_edad_mujeres = 0\n",
        "            promedio_edad_hombres = 0\n",
        "        print(\"--- Resultados ---\")\n",
        "        print(\"Cantidad de alumnos: \", cantidad_alumnos)\n",
        "        print(\"Cantidad de mujeres: \", self.mujeres)\n",
        "        print(\"Cantidad de hombres: \", self.hombres)\n",
        "        if self.mujeres > 0:\n",
        "            print(\"Promedio de edad mujeres: \", round(promedio_edad_mujeres, 2))\n",
        "        else:\n",
        "            print(\"Promedio de edad mujeres: N/A\")\n",
        "        if self.hombres > 0:\n",
        "            print(\"Promedio de edad hombres: \", round(promedio_edad_hombres, 2))\n",
        "        else:\n",
        "            print(\"Promedio de edad hombres: N/A\")\n",
        "\n",
        "registro = RegistroAlumnos()\n",
        "registro.registrar_alumno()\n",
        "registro.mostrar_resultados()\n"
      ]
    }
  ]
}