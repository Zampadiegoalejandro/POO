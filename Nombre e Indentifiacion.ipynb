{
  "nbformat": 4,
  "nbformat_minor": 0,
  "metadata": {
    "colab": {
      "provenance": [],
      "authorship_tag": "ABX9TyPiyIb/nCP8R4iOG3CXwne4",
      "include_colab_link": true
    },
    "kernelspec": {
      "name": "python3",
      "display_name": "Python 3"
    },
    "language_info": {
      "name": "python"
    }
  },
  "cells": [
    {
      "cell_type": "markdown",
      "metadata": {
        "id": "view-in-github",
        "colab_type": "text"
      },
      "source": [
        "<a href=\"https://colab.research.google.com/github/Zampadiegoalejandro/POO/blob/main/Nombre%20e%20Indentifiacion.ipynb\" target=\"_parent\"><img src=\"https://colab.research.google.com/assets/colab-badge.svg\" alt=\"Open In Colab\"/></a>"
      ]
    },
    {
      "cell_type": "markdown",
      "source": [
        "Nombre e Indentifiacion | Diego alejandro sanchez sanabria | 28/02/2025"
      ],
      "metadata": {
        "id": "1r2uKfyKSmDh"
      }
    },
    {
      "cell_type": "code",
      "execution_count": null,
      "metadata": {
        "id": "YMFusnZnSj_p"
      },
      "outputs": [],
      "source": [
        "class NombId():\n",
        "  def __init__(self, nombre, identificacion):\n",
        "    self.nombre=nombre\n",
        "    self.identificacion=indetificacion\n",
        "    def datos(self):\n",
        "      resp=\"s\"\n",
        "      tam=0\n",
        "      while resp==\"s\":\n",
        "        print(\"ingrese los datos de l  paersona \", tam+1)\n",
        "        nombres=input(\"Nombre: \")\n",
        "        indetificaciones=input(\"indetificacion: \")\n",
        "        self.nombre.append(nombres)\n",
        "        self.indetificacion.append(indetificaciones)\n",
        "        resp=input(\"Quieres otro? si: 's'  no: 'n' \")\n",
        "      return(resp)"
      ]
    },
    {
      "cell_type": "code",
      "source": [
        "nombre=[]\n",
        "indetificacion=[]\n",
        "nombres=input(\"Nombre: \")\n",
        "indetificaciones=input(\"indetificacion: \")\n",
        "nombre.append(nombres)\n",
        "indetificacion.append(indetificaciones)\n",
        "obj=NombId(nombre, identificacion)\n",
        "resp=obj.datos()\n",
        "for i in range(obj.nombre):\n",
        "    print(\"Mostrando los dtos de la persona\", i+1)\n",
        "    print(\"Nombre: \", obj.nombre[i])\n",
        "    print(\"Indetificacion: \", obj.indetificacion[i])"
      ],
      "metadata": {
        "colab": {
          "base_uri": "https://localhost:8080/",
          "height": 245
        },
        "id": "Bpg9QqQBU00v",
        "outputId": "857b7fc0-44b6-4923-a69e-6bea54867fad"
      },
      "execution_count": null,
      "outputs": [
        {
          "name": "stdout",
          "output_type": "stream",
          "text": [
            "Nombre: w\n",
            "indetificacion: \n"
          ]
        },
        {
          "output_type": "error",
          "ename": "NameError",
          "evalue": "name 'identificacion' is not defined",
          "traceback": [
            "\u001b[0;31m---------------------------------------------------------------------------\u001b[0m",
            "\u001b[0;31mNameError\u001b[0m                                 Traceback (most recent call last)",
            "\u001b[0;32m<ipython-input-12-4f21db4a65ad>\u001b[0m in \u001b[0;36m<cell line: 0>\u001b[0;34m()\u001b[0m\n\u001b[1;32m      5\u001b[0m \u001b[0mnombre\u001b[0m\u001b[0;34m.\u001b[0m\u001b[0mappend\u001b[0m\u001b[0;34m(\u001b[0m\u001b[0mnombres\u001b[0m\u001b[0;34m)\u001b[0m\u001b[0;34m\u001b[0m\u001b[0;34m\u001b[0m\u001b[0m\n\u001b[1;32m      6\u001b[0m \u001b[0mindetificacion\u001b[0m\u001b[0;34m.\u001b[0m\u001b[0mappend\u001b[0m\u001b[0;34m(\u001b[0m\u001b[0mindetificaciones\u001b[0m\u001b[0;34m)\u001b[0m\u001b[0;34m\u001b[0m\u001b[0;34m\u001b[0m\u001b[0m\n\u001b[0;32m----> 7\u001b[0;31m \u001b[0mobj\u001b[0m\u001b[0;34m=\u001b[0m\u001b[0mNombId\u001b[0m\u001b[0;34m(\u001b[0m\u001b[0mnombre\u001b[0m\u001b[0;34m,\u001b[0m \u001b[0midentificacion\u001b[0m\u001b[0;34m)\u001b[0m\u001b[0;34m\u001b[0m\u001b[0;34m\u001b[0m\u001b[0m\n\u001b[0m\u001b[1;32m      8\u001b[0m \u001b[0mresp\u001b[0m\u001b[0;34m=\u001b[0m\u001b[0mobj\u001b[0m\u001b[0;34m.\u001b[0m\u001b[0mdatos\u001b[0m\u001b[0;34m(\u001b[0m\u001b[0;34m)\u001b[0m\u001b[0;34m\u001b[0m\u001b[0;34m\u001b[0m\u001b[0m\n\u001b[1;32m      9\u001b[0m \u001b[0;32mfor\u001b[0m \u001b[0mi\u001b[0m \u001b[0;32min\u001b[0m \u001b[0mrange\u001b[0m\u001b[0;34m(\u001b[0m\u001b[0mobj\u001b[0m\u001b[0;34m.\u001b[0m\u001b[0mnombre\u001b[0m\u001b[0;34m)\u001b[0m\u001b[0;34m:\u001b[0m\u001b[0;34m\u001b[0m\u001b[0;34m\u001b[0m\u001b[0m\n",
            "\u001b[0;31mNameError\u001b[0m: name 'identificacion' is not defined"
          ]
        }
      ]
    }
  ]
}