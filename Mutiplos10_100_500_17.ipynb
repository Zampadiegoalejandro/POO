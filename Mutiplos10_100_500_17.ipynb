{
  "nbformat": 4,
  "nbformat_minor": 0,
  "metadata": {
    "colab": {
      "provenance": [],
      "authorship_tag": "ABX9TyNJQltYnqHqKIt8ZJLRFGcQ",
      "include_colab_link": true
    },
    "kernelspec": {
      "name": "python3",
      "display_name": "Python 3"
    },
    "language_info": {
      "name": "python"
    }
  },
  "cells": [
    {
      "cell_type": "markdown",
      "metadata": {
        "id": "view-in-github",
        "colab_type": "text"
      },
      "source": [
        "<a href=\"https://colab.research.google.com/github/Zampadiegoalejandro/POO/blob/main/Mutiplos10_100_500_17.ipynb\" target=\"_parent\"><img src=\"https://colab.research.google.com/assets/colab-badge.svg\" alt=\"Open In Colab\"/></a>"
      ]
    },
    {
      "cell_type": "code",
      "execution_count": null,
      "metadata": {
        "colab": {
          "base_uri": "https://localhost:8080/"
        },
        "id": "xrx-hih1D6Gq",
        "outputId": "e0df6727-cba8-4817-abf4-ac233f348b87"
      },
      "outputs": [
        {
          "output_type": "stream",
          "name": "stdout",
          "text": [
            "Ingrese la cantidad a cambiar (múltiplo de 50): 500\n",
            "Denominaciones\n",
            "[500, 100, 50]\n",
            "Cambio Inicial\n",
            "[[500, 0], [100, 0], [50, 0]]\n",
            "Resultado del cambio:\n",
            "Denominación | Cantidad\n",
            "-------------------------\n",
            "$ 500 | 1\n",
            "$ 100 | 0\n",
            "$ 50 | 0\n"
          ]
        }
      ],
      "source": [
        "class SistemaCambio():\n",
        "  def __init__(self):\n",
        "    r=0\n",
        "  def denominacionesA(self):\n",
        "    a=[500, 100, 50]\n",
        "    return(a)\n",
        "  def cambioA(self):\n",
        "    b=[[500, 0], [100, 0], [50, 0]]\n",
        "    return(b)\n",
        "  def calcular_cambio(self,a,b,cantidad):\n",
        "    cantidad_restante = cantidad\n",
        "    c=[[500, 0], [100, 0], [50, 0]]\n",
        "    for i, denominacion in enumerate(a):\n",
        "      if cantidad_restante >= denominacion:\n",
        "        c[i][1] = cantidad_restante // denominacion\n",
        "        cantidad_restante = cantidad_restante % denominacion\n",
        "    return(c)\n",
        "  def validar_cantidad(self,cantidad):\n",
        "    if cantidad <= 0:\n",
        "      return False\n",
        "    if cantidad % 50 != 0:\n",
        "      return False\n",
        "    return True\n",
        "  def imprime(self,a,b,c):\n",
        "    print(\"Denominaciones\")\n",
        "    print(a)\n",
        "    print(\"Cambio Inicial\")\n",
        "    print(b)\n",
        "    print(\"Resultado del cambio:\")\n",
        "    print(\"Denominación | Cantidad\")\n",
        "    print(\"-------------------------\")\n",
        "    for billete in c:\n",
        "      print(\"$\", billete[0], \"|\", billete[1])\n",
        "\n",
        "sistema = SistemaCambio()\n",
        "denominaciones = sistema.denominacionesA()\n",
        "cambio_inicial = sistema.cambioA()\n",
        "\n",
        "while True:\n",
        "  try:\n",
        "    cantidad = int(input(\"Ingrese la cantidad a cambiar (múltiplo de 50): \"))\n",
        "    if sistema.validar_cantidad(cantidad):\n",
        "      break\n",
        "    else:\n",
        "      print(\"Error: La cantidad debe ser un múltiplo de 50 positivo\")\n",
        "  except ValueError:\n",
        "    print(\"Error: Ingrese un número válido\")\n",
        "\n",
        "cambio_final = sistema.calcular_cambio(denominaciones, cambio_inicial, cantidad)\n",
        "sistema.imprime(denominaciones, cambio_inicial, cambio_final)"
      ]
    },
    {
      "cell_type": "code",
      "source": [
        "class SistemaCambioSP():\n",
        "  def __init__(self):\n",
        "    self.denominaciones = [500, 100, 50]\n",
        "    self.cambio_inicial = [[500, 0], [100, 0], [50, 0]]\n",
        "    self.cambio_final = [[500, 0], [100, 0], [50, 0]]\n",
        "    self.cantidad = 0\n",
        "\n",
        "  def Menu(self):\n",
        "    print(\"Elije una Opcion\")\n",
        "    print(\"1. Calcular cambio\")\n",
        "    print(\"2. Salir\")\n",
        "    op = int(input(\"Opcion: \"))\n",
        "    return(op)\n",
        "\n",
        "  def pedir_cantidad(self):\n",
        "    while True:\n",
        "      try:\n",
        "        self.cantidad = int(input(\"Ingrese la cantidad a cambiar (múltiplo de 50): \"))\n",
        "        if self.validar_cantidad():\n",
        "          break\n",
        "        else:\n",
        "          print(\"Error: La cantidad debe ser un múltiplo de 50 positivo\")\n",
        "      except ValueError:\n",
        "        print(\"Error: Ingrese un número válido\")\n",
        "\n",
        "  def validar_cantidad(self):\n",
        "    if self.cantidad <= 0:\n",
        "      return False\n",
        "    if self.cantidad % 50 != 0:\n",
        "      return False\n",
        "    return True\n",
        "\n",
        "  def calcular_cambio(self):\n",
        "    cantidad_restante = self.cantidad\n",
        "    for i, denominacion in enumerate(self.denominaciones):\n",
        "      if cantidad_restante >= denominacion:\n",
        "        self.cambio_final[i][1] = cantidad_restante // denominacion\n",
        "        cantidad_restante = cantidad_restante % denominacion\n",
        "\n",
        "  def imprime_resultado(self):\n",
        "    print(\"\\nDenominaciones\")\n",
        "    print(self.denominaciones)\n",
        "    print(\"Cambio Inicial\")\n",
        "    print(self.cambio_inicial)\n",
        "    print(\"Resultado del cambio para $\", self.cantidad)\n",
        "    print(\"Denominación | Cantidad\")\n",
        "    print(\"-------------------------\")\n",
        "    for billete in self.cambio_final:\n",
        "      print(\"$\", billete[0], \"|\", billete[1])\n",
        "\n",
        "sistema = SistemaCambioSP()\n",
        "\n",
        "while True:\n",
        "  opcion = sistema.Menu()\n",
        "  if opcion == 1:\n",
        "    sistema.pedir_cantidad()\n",
        "    sistema.calcular_cambio()\n",
        "    sistema.imprime_resultado()\n",
        "  elif opcion == 2:\n",
        "    print(\"Programa finalizado\")\n",
        "    break\n",
        "  else:\n",
        "    print(\"Opción inválida, intente de nuevo\")"
      ],
      "metadata": {
        "colab": {
          "base_uri": "https://localhost:8080/"
        },
        "id": "JeUFCd7gQkHR",
        "outputId": "ccf750f2-2c1a-4cdd-8602-d27666b25fde"
      },
      "execution_count": null,
      "outputs": [
        {
          "output_type": "stream",
          "name": "stdout",
          "text": [
            "\n",
            "Letras encontradas en el array:\n",
            "['Z', 'R', 'A4', 'X', 'Y']\n",
            "\n",
            "Número Mayor: 89\n",
            "Número Menor: 3\n"
          ]
        }
      ]
    }
  ]
}